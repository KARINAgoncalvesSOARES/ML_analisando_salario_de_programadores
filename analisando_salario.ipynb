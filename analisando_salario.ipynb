{
 "cells": [
  {
   "attachments": {},
   "cell_type": "markdown",
   "metadata": {},
   "source": [
    "<h1 align=\"Center\" >Análisando O Salário Dos Programadores \n"
   ]
  },
  {
   "attachments": {},
   "cell_type": "markdown",
   "metadata": {},
   "source": [
    "Data Science Jr.: Karina Gonçalves Soares\n",
    "\n",
    "Links de estudo:\n",
    "\n",
    "[Análises de los salários em programadores](https://www.kaggle.com/code/wagnerfernndez/analisis-de-los-salarios-en-programadores/notebook#ANALISIS-DE-LOS-SALARIOS-EN-PROGRAMADORES)\n",
    "\n",
    "[Dataset](https://www.kaggle.com/datasets/abhishek14398/salary-dataset-simple-linear-regression?select=Salary_dataset.csv)"
   ]
  },
  {
   "attachments": {},
   "cell_type": "markdown",
   "metadata": {},
   "source": [
    "### 1. Análise e Processamento Dos Dados\n",
    "\n",
    "1. Instalando as bibliotecas\n",
    "\n",
    "Os APIs necessários para o processamentos dos dados"
   ]
  },
  {
   "cell_type": "code",
   "execution_count": 1,
   "metadata": {},
   "outputs": [],
   "source": [
    "#%pip install seaborn\n",
    "#%pip install scikit-learn"
   ]
  },
  {
   "cell_type": "code",
   "execution_count": 2,
   "metadata": {},
   "outputs": [],
   "source": [
    "import pandas as pd\n",
    "import numpy as np\n",
    "import matplotlib.pyplot as plt\n",
    "import os \n",
    "import seaborn as sns\n",
    "\n",
    "from sklearn.model_selection import train_test_split\n",
    "from sklearn.linear_model import LinearRegression"
   ]
  },
  {
   "attachments": {},
   "cell_type": "markdown",
   "metadata": {},
   "source": [
    "2. Processamento dos dados\n",
    "\n",
    "Este numeral é dividido em dois pontos:\n",
    "* Limpeza dos dados\n",
    "\n",
    "* Análise exploratória de dados(EDA)."
   ]
  },
  {
   "attachments": {},
   "cell_type": "markdown",
   "metadata": {},
   "source": [
    "2.1 Limpeza dos dados\n",
    "\n",
    "A limpeza dos dados(Datacleaning), consiste em envolver , detectar, eliminar, corrigir e transformar qualquer anomalia, perturbação ou irrelevância dos dados.(Torres, 2021)\n",
    "\n",
    "Utilizaremos a análise descritiva dos dados, uma etapa preliminar do tratamento dos dados que consiste em sintetizar os dados históricos para obter informação útil e prepará-los para análises posteriores\n",
    "\n",
    "Essa análise é feita com o fim de identificar padrões e tendências.\n",
    "\n",
    "* A seguir vamos ler os dados utilizando a livraria pandas:"
   ]
  },
  {
   "cell_type": "code",
   "execution_count": 3,
   "metadata": {},
   "outputs": [
    {
     "data": {
      "text/html": [
       "<div>\n",
       "<style scoped>\n",
       "    .dataframe tbody tr th:only-of-type {\n",
       "        vertical-align: middle;\n",
       "    }\n",
       "\n",
       "    .dataframe tbody tr th {\n",
       "        vertical-align: top;\n",
       "    }\n",
       "\n",
       "    .dataframe thead th {\n",
       "        text-align: right;\n",
       "    }\n",
       "</style>\n",
       "<table border=\"1\" class=\"dataframe\">\n",
       "  <thead>\n",
       "    <tr style=\"text-align: right;\">\n",
       "      <th></th>\n",
       "      <th>Unnamed: 0</th>\n",
       "      <th>YearsExperience</th>\n",
       "      <th>Salary</th>\n",
       "    </tr>\n",
       "  </thead>\n",
       "  <tbody>\n",
       "    <tr>\n",
       "      <th>0</th>\n",
       "      <td>0</td>\n",
       "      <td>1.2</td>\n",
       "      <td>39344.0</td>\n",
       "    </tr>\n",
       "    <tr>\n",
       "      <th>1</th>\n",
       "      <td>1</td>\n",
       "      <td>1.4</td>\n",
       "      <td>46206.0</td>\n",
       "    </tr>\n",
       "    <tr>\n",
       "      <th>2</th>\n",
       "      <td>2</td>\n",
       "      <td>1.6</td>\n",
       "      <td>37732.0</td>\n",
       "    </tr>\n",
       "    <tr>\n",
       "      <th>3</th>\n",
       "      <td>3</td>\n",
       "      <td>2.1</td>\n",
       "      <td>43526.0</td>\n",
       "    </tr>\n",
       "    <tr>\n",
       "      <th>4</th>\n",
       "      <td>4</td>\n",
       "      <td>2.3</td>\n",
       "      <td>39892.0</td>\n",
       "    </tr>\n",
       "  </tbody>\n",
       "</table>\n",
       "</div>"
      ],
      "text/plain": [
       "   Unnamed: 0  YearsExperience   Salary\n",
       "0           0              1.2  39344.0\n",
       "1           1              1.4  46206.0\n",
       "2           2              1.6  37732.0\n",
       "3           3              2.1  43526.0\n",
       "4           4              2.3  39892.0"
      ]
     },
     "execution_count": 3,
     "metadata": {},
     "output_type": "execute_result"
    }
   ],
   "source": [
    "df = pd.read_csv(\"Salary_dataset.csv\")\n",
    "\n",
    "df.head()"
   ]
  },
  {
   "cell_type": "code",
   "execution_count": 4,
   "metadata": {},
   "outputs": [
    {
     "data": {
      "text/plain": [
       "(30, 3)"
      ]
     },
     "execution_count": 4,
     "metadata": {},
     "output_type": "execute_result"
    }
   ],
   "source": [
    "df.shape"
   ]
  },
  {
   "cell_type": "code",
   "execution_count": 5,
   "metadata": {},
   "outputs": [
    {
     "name": "stdout",
     "output_type": "stream",
     "text": [
      "<class 'pandas.core.frame.DataFrame'>\n",
      "RangeIndex: 30 entries, 0 to 29\n",
      "Data columns (total 3 columns):\n",
      " #   Column           Non-Null Count  Dtype  \n",
      "---  ------           --------------  -----  \n",
      " 0   Unnamed: 0       30 non-null     int64  \n",
      " 1   YearsExperience  30 non-null     float64\n",
      " 2   Salary           30 non-null     float64\n",
      "dtypes: float64(2), int64(1)\n",
      "memory usage: 848.0 bytes\n"
     ]
    }
   ],
   "source": [
    "df.info()"
   ]
  },
  {
   "cell_type": "code",
   "execution_count": 6,
   "metadata": {},
   "outputs": [],
   "source": [
    "#df[\"Salary\"].unique()"
   ]
  },
  {
   "attachments": {},
   "cell_type": "markdown",
   "metadata": {},
   "source": [
    "* Vamos limpar a coluna \"Unnamed: 0\", que para nós não é necessária."
   ]
  },
  {
   "cell_type": "code",
   "execution_count": 7,
   "metadata": {},
   "outputs": [],
   "source": [
    "df.drop(\"Unnamed: 0\", axis=1, inplace=True)"
   ]
  },
  {
   "attachments": {},
   "cell_type": "markdown",
   "metadata": {},
   "source": [
    "* Trocaremos os nomes das colunas."
   ]
  },
  {
   "cell_type": "code",
   "execution_count": 8,
   "metadata": {},
   "outputs": [],
   "source": [
    "df.columns = [\"anos de experiência\", \"salário\"]"
   ]
  },
  {
   "attachments": {},
   "cell_type": "markdown",
   "metadata": {},
   "source": [
    "* Lendo o DataFrame ajustado."
   ]
  },
  {
   "cell_type": "code",
   "execution_count": 9,
   "metadata": {},
   "outputs": [
    {
     "data": {
      "text/html": [
       "<div>\n",
       "<style scoped>\n",
       "    .dataframe tbody tr th:only-of-type {\n",
       "        vertical-align: middle;\n",
       "    }\n",
       "\n",
       "    .dataframe tbody tr th {\n",
       "        vertical-align: top;\n",
       "    }\n",
       "\n",
       "    .dataframe thead th {\n",
       "        text-align: right;\n",
       "    }\n",
       "</style>\n",
       "<table border=\"1\" class=\"dataframe\">\n",
       "  <thead>\n",
       "    <tr style=\"text-align: right;\">\n",
       "      <th></th>\n",
       "      <th>anos de experiência</th>\n",
       "      <th>salário</th>\n",
       "    </tr>\n",
       "  </thead>\n",
       "  <tbody>\n",
       "    <tr>\n",
       "      <th>0</th>\n",
       "      <td>1.2</td>\n",
       "      <td>39344.0</td>\n",
       "    </tr>\n",
       "    <tr>\n",
       "      <th>1</th>\n",
       "      <td>1.4</td>\n",
       "      <td>46206.0</td>\n",
       "    </tr>\n",
       "  </tbody>\n",
       "</table>\n",
       "</div>"
      ],
      "text/plain": [
       "   anos de experiência  salário\n",
       "0                  1.2  39344.0\n",
       "1                  1.4  46206.0"
      ]
     },
     "execution_count": 9,
     "metadata": {},
     "output_type": "execute_result"
    }
   ],
   "source": [
    "df.head(2)"
   ]
  },
  {
   "attachments": {},
   "cell_type": "markdown",
   "metadata": {},
   "source": [
    "2.2 Análise Exploratória de Dados (EDA)\n",
    "\n",
    "A análise exploratóra de dados (EDA) é utilizada para analisar, investigar conjunto de dados e resumir suas prícipais características, geralmente usando métodos de visualização de dados. A EDA ajuda a determinar a melhor maneira de manipular as fontes de dados para obter as respostar necessárias, permitindo descubrir padrões, anomalias, testar hipóteses ou suposições. (IBM, 2021)\n",
    "\n",
    "\n",
    "* Utilizaremos o método describe() para obter a descrição das colunas dos dados,onde podemos visualizar média, moda, mediana etc."
   ]
  },
  {
   "cell_type": "code",
   "execution_count": 10,
   "metadata": {},
   "outputs": [
    {
     "data": {
      "text/html": [
       "<div>\n",
       "<style scoped>\n",
       "    .dataframe tbody tr th:only-of-type {\n",
       "        vertical-align: middle;\n",
       "    }\n",
       "\n",
       "    .dataframe tbody tr th {\n",
       "        vertical-align: top;\n",
       "    }\n",
       "\n",
       "    .dataframe thead th {\n",
       "        text-align: right;\n",
       "    }\n",
       "</style>\n",
       "<table border=\"1\" class=\"dataframe\">\n",
       "  <thead>\n",
       "    <tr style=\"text-align: right;\">\n",
       "      <th></th>\n",
       "      <th>anos de experiência</th>\n",
       "      <th>salário</th>\n",
       "    </tr>\n",
       "  </thead>\n",
       "  <tbody>\n",
       "    <tr>\n",
       "      <th>count</th>\n",
       "      <td>30.000000</td>\n",
       "      <td>30.000000</td>\n",
       "    </tr>\n",
       "    <tr>\n",
       "      <th>mean</th>\n",
       "      <td>5.413333</td>\n",
       "      <td>76004.000000</td>\n",
       "    </tr>\n",
       "    <tr>\n",
       "      <th>std</th>\n",
       "      <td>2.837888</td>\n",
       "      <td>27414.429785</td>\n",
       "    </tr>\n",
       "    <tr>\n",
       "      <th>min</th>\n",
       "      <td>1.200000</td>\n",
       "      <td>37732.000000</td>\n",
       "    </tr>\n",
       "    <tr>\n",
       "      <th>25%</th>\n",
       "      <td>3.300000</td>\n",
       "      <td>56721.750000</td>\n",
       "    </tr>\n",
       "    <tr>\n",
       "      <th>50%</th>\n",
       "      <td>4.800000</td>\n",
       "      <td>65238.000000</td>\n",
       "    </tr>\n",
       "    <tr>\n",
       "      <th>75%</th>\n",
       "      <td>7.800000</td>\n",
       "      <td>100545.750000</td>\n",
       "    </tr>\n",
       "    <tr>\n",
       "      <th>max</th>\n",
       "      <td>10.600000</td>\n",
       "      <td>122392.000000</td>\n",
       "    </tr>\n",
       "  </tbody>\n",
       "</table>\n",
       "</div>"
      ],
      "text/plain": [
       "       anos de experiência        salário\n",
       "count            30.000000      30.000000\n",
       "mean              5.413333   76004.000000\n",
       "std               2.837888   27414.429785\n",
       "min               1.200000   37732.000000\n",
       "25%               3.300000   56721.750000\n",
       "50%               4.800000   65238.000000\n",
       "75%               7.800000  100545.750000\n",
       "max              10.600000  122392.000000"
      ]
     },
     "execution_count": 10,
     "metadata": {},
     "output_type": "execute_result"
    }
   ],
   "source": [
    "df.describe()"
   ]
  },
  {
   "attachments": {},
   "cell_type": "markdown",
   "metadata": {},
   "source": [
    "* Contando as células/linhas nas duas colunas do DataFrame:"
   ]
  },
  {
   "cell_type": "code",
   "execution_count": 11,
   "metadata": {},
   "outputs": [
    {
     "data": {
      "text/plain": [
       "anos de experiência    30\n",
       "salário                30\n",
       "dtype: int64"
      ]
     },
     "execution_count": 11,
     "metadata": {},
     "output_type": "execute_result"
    }
   ],
   "source": [
    "# Contagem de índices ou linhas com dados no DataFrame\n",
    "df.count()"
   ]
  },
  {
   "cell_type": "code",
   "execution_count": 12,
   "metadata": {},
   "outputs": [
    {
     "name": "stdout",
     "output_type": "stream",
     "text": [
      "<class 'pandas.core.frame.DataFrame'>\n",
      "RangeIndex: 30 entries, 0 to 29\n",
      "Data columns (total 2 columns):\n",
      " #   Column               Non-Null Count  Dtype  \n",
      "---  ------               --------------  -----  \n",
      " 0   anos de experiência  30 non-null     float64\n",
      " 1   salário              30 non-null     float64\n",
      "dtypes: float64(2)\n",
      "memory usage: 608.0 bytes\n"
     ]
    }
   ],
   "source": [
    "# A informação do DataFrame\n",
    "df.info()"
   ]
  },
  {
   "attachments": {},
   "cell_type": "markdown",
   "metadata": {},
   "source": [
    "3. Visualização de Dados\n",
    "\n",
    "\"Uma visualização de dados antes de tudo, tem que transmitir com precisão os dados. Não deve induzir ao erro e nem distorcer\" (Wilke, 2019).\n",
    "\n",
    "A visualização de dados  é um processo no qual se toma os dados já limpos e organizados, para representá-los em gráficos, as representações devem mostrar variáveis concordantes para uma boa tomada de decisão.\n",
    "\n",
    "* Plote o DataFrame, de modo que, à medida que o valor aumenta, a cor pareça mais intensa:"
   ]
  },
  {
   "cell_type": "code",
   "execution_count": 13,
   "metadata": {},
   "outputs": [
    {
     "name": "stdout",
     "output_type": "stream",
     "text": [
      "Representando el estilo del DataFrame:\n"
     ]
    },
    {
     "data": {
      "text/html": [
       "<style type=\"text/css\">\n",
       "#T_c0223_row0_col0, #T_c0223_row2_col1 {\n",
       "  background-color: #ebf3eb;\n",
       "  color: #000000;\n",
       "}\n",
       "#T_c0223_row0_col1 {\n",
       "  background-color: #e7f1e7;\n",
       "  color: #000000;\n",
       "}\n",
       "#T_c0223_row1_col0 {\n",
       "  background-color: #e6f1e6;\n",
       "  color: #000000;\n",
       "}\n",
       "#T_c0223_row1_col1, #T_c0223_row3_col0 {\n",
       "  background-color: #d4e8d4;\n",
       "  color: #000000;\n",
       "}\n",
       "#T_c0223_row2_col0 {\n",
       "  background-color: #e1eee1;\n",
       "  color: #000000;\n",
       "}\n",
       "#T_c0223_row3_col1 {\n",
       "  background-color: #dbebdb;\n",
       "  color: #000000;\n",
       "}\n",
       "#T_c0223_row4_col0 {\n",
       "  background-color: #d0e6d0;\n",
       "  color: #000000;\n",
       "}\n",
       "#T_c0223_row4_col1 {\n",
       "  background-color: #e5f0e5;\n",
       "  color: #000000;\n",
       "}\n",
       "#T_c0223_row5_col0 {\n",
       "  background-color: #bdddbd;\n",
       "  color: #000000;\n",
       "}\n",
       "#T_c0223_row5_col1, #T_c0223_row7_col0, #T_c0223_row8_col0 {\n",
       "  background-color: #b6d9b6;\n",
       "  color: #000000;\n",
       "}\n",
       "#T_c0223_row6_col0 {\n",
       "  background-color: #bcdcbc;\n",
       "  color: #000000;\n",
       "}\n",
       "#T_c0223_row6_col1 {\n",
       "  background-color: #add5ad;\n",
       "  color: #000000;\n",
       "}\n",
       "#T_c0223_row7_col1 {\n",
       "  background-color: #bddcbd;\n",
       "  color: #000000;\n",
       "}\n",
       "#T_c0223_row8_col1 {\n",
       "  background-color: #a1cfa1;\n",
       "  color: #000000;\n",
       "}\n",
       "#T_c0223_row9_col0, #T_c0223_row14_col1 {\n",
       "  background-color: #aad3aa;\n",
       "  color: #000000;\n",
       "}\n",
       "#T_c0223_row9_col1, #T_c0223_row12_col1, #T_c0223_row13_col1 {\n",
       "  background-color: #b5d9b5;\n",
       "  color: #000000;\n",
       "}\n",
       "#T_c0223_row10_col0 {\n",
       "  background-color: #a5d1a5;\n",
       "  color: #000000;\n",
       "}\n",
       "#T_c0223_row10_col1 {\n",
       "  background-color: #a4d0a4;\n",
       "  color: #000000;\n",
       "}\n",
       "#T_c0223_row11_col0, #T_c0223_row12_col0 {\n",
       "  background-color: #a3d0a3;\n",
       "  color: #000000;\n",
       "}\n",
       "#T_c0223_row11_col1 {\n",
       "  background-color: #b9dbb9;\n",
       "  color: #000000;\n",
       "}\n",
       "#T_c0223_row13_col0 {\n",
       "  background-color: #a0cea0;\n",
       "  color: #000000;\n",
       "}\n",
       "#T_c0223_row14_col0 {\n",
       "  background-color: #96c996;\n",
       "  color: #000000;\n",
       "}\n",
       "#T_c0223_row15_col0 {\n",
       "  background-color: #8cc58c;\n",
       "  color: #000000;\n",
       "}\n",
       "#T_c0223_row15_col1 {\n",
       "  background-color: #97ca97;\n",
       "  color: #000000;\n",
       "}\n",
       "#T_c0223_row16_col0 {\n",
       "  background-color: #87c287;\n",
       "  color: #000000;\n",
       "}\n",
       "#T_c0223_row16_col1 {\n",
       "  background-color: #9ccd9c;\n",
       "  color: #000000;\n",
       "}\n",
       "#T_c0223_row17_col0 {\n",
       "  background-color: #82c082;\n",
       "  color: #000000;\n",
       "}\n",
       "#T_c0223_row17_col1 {\n",
       "  background-color: #6db56d;\n",
       "  color: #f1f1f1;\n",
       "}\n",
       "#T_c0223_row18_col0 {\n",
       "  background-color: #73b873;\n",
       "  color: #f1f1f1;\n",
       "}\n",
       "#T_c0223_row18_col1 {\n",
       "  background-color: #72b872;\n",
       "  color: #f1f1f1;\n",
       "}\n",
       "#T_c0223_row19_col0 {\n",
       "  background-color: #70b770;\n",
       "  color: #f1f1f1;\n",
       "}\n",
       "#T_c0223_row19_col1 {\n",
       "  background-color: #4fa74f;\n",
       "  color: #f1f1f1;\n",
       "}\n",
       "#T_c0223_row20_col0 {\n",
       "  background-color: #5cad5c;\n",
       "  color: #f1f1f1;\n",
       "}\n",
       "#T_c0223_row20_col1, #T_c0223_row21_col0 {\n",
       "  background-color: #55a955;\n",
       "  color: #f1f1f1;\n",
       "}\n",
       "#T_c0223_row21_col1 {\n",
       "  background-color: #42a042;\n",
       "  color: #f1f1f1;\n",
       "}\n",
       "#T_c0223_row22_col0 {\n",
       "  background-color: #40a040;\n",
       "  color: #f1f1f1;\n",
       "}\n",
       "#T_c0223_row22_col1 {\n",
       "  background-color: #3a9c3a;\n",
       "  color: #f1f1f1;\n",
       "}\n",
       "#T_c0223_row23_col0 {\n",
       "  background-color: #399c39;\n",
       "  color: #f1f1f1;\n",
       "}\n",
       "#T_c0223_row23_col1 {\n",
       "  background-color: #178b17;\n",
       "  color: #f1f1f1;\n",
       "}\n",
       "#T_c0223_row24_col0 {\n",
       "  background-color: #2d962d;\n",
       "  color: #f1f1f1;\n",
       "}\n",
       "#T_c0223_row24_col1 {\n",
       "  background-color: #249224;\n",
       "  color: #f1f1f1;\n",
       "}\n",
       "#T_c0223_row25_col0 {\n",
       "  background-color: #259225;\n",
       "  color: #f1f1f1;\n",
       "}\n",
       "#T_c0223_row25_col1 {\n",
       "  background-color: #2e972e;\n",
       "  color: #f1f1f1;\n",
       "}\n",
       "#T_c0223_row26_col0 {\n",
       "  background-color: #198c19;\n",
       "  color: #f1f1f1;\n",
       "}\n",
       "#T_c0223_row26_col1 {\n",
       "  background-color: #0f870f;\n",
       "  color: #f1f1f1;\n",
       "}\n",
       "#T_c0223_row27_col0 {\n",
       "  background-color: #168b16;\n",
       "  color: #f1f1f1;\n",
       "}\n",
       "#T_c0223_row27_col1 {\n",
       "  background-color: #1b8d1b;\n",
       "  color: #f1f1f1;\n",
       "}\n",
       "#T_c0223_row28_col0 {\n",
       "  background-color: #058205;\n",
       "  color: #f1f1f1;\n",
       "}\n",
       "#T_c0223_row28_col1, #T_c0223_row29_col0 {\n",
       "  background-color: #008000;\n",
       "  color: #f1f1f1;\n",
       "}\n",
       "#T_c0223_row29_col1 {\n",
       "  background-color: #018001;\n",
       "  color: #f1f1f1;\n",
       "}\n",
       "</style>\n",
       "<table id=\"T_c0223\">\n",
       "  <thead>\n",
       "    <tr>\n",
       "      <th class=\"blank level0\" >&nbsp;</th>\n",
       "      <th id=\"T_c0223_level0_col0\" class=\"col_heading level0 col0\" >anos de experiência</th>\n",
       "      <th id=\"T_c0223_level0_col1\" class=\"col_heading level0 col1\" >salário</th>\n",
       "    </tr>\n",
       "  </thead>\n",
       "  <tbody>\n",
       "    <tr>\n",
       "      <th id=\"T_c0223_level0_row0\" class=\"row_heading level0 row0\" >0</th>\n",
       "      <td id=\"T_c0223_row0_col0\" class=\"data row0 col0\" >1</td>\n",
       "      <td id=\"T_c0223_row0_col1\" class=\"data row0 col1\" >39344</td>\n",
       "    </tr>\n",
       "    <tr>\n",
       "      <th id=\"T_c0223_level0_row1\" class=\"row_heading level0 row1\" >1</th>\n",
       "      <td id=\"T_c0223_row1_col0\" class=\"data row1 col0\" >1</td>\n",
       "      <td id=\"T_c0223_row1_col1\" class=\"data row1 col1\" >46206</td>\n",
       "    </tr>\n",
       "    <tr>\n",
       "      <th id=\"T_c0223_level0_row2\" class=\"row_heading level0 row2\" >2</th>\n",
       "      <td id=\"T_c0223_row2_col0\" class=\"data row2 col0\" >2</td>\n",
       "      <td id=\"T_c0223_row2_col1\" class=\"data row2 col1\" >37732</td>\n",
       "    </tr>\n",
       "    <tr>\n",
       "      <th id=\"T_c0223_level0_row3\" class=\"row_heading level0 row3\" >3</th>\n",
       "      <td id=\"T_c0223_row3_col0\" class=\"data row3 col0\" >2</td>\n",
       "      <td id=\"T_c0223_row3_col1\" class=\"data row3 col1\" >43526</td>\n",
       "    </tr>\n",
       "    <tr>\n",
       "      <th id=\"T_c0223_level0_row4\" class=\"row_heading level0 row4\" >4</th>\n",
       "      <td id=\"T_c0223_row4_col0\" class=\"data row4 col0\" >2</td>\n",
       "      <td id=\"T_c0223_row4_col1\" class=\"data row4 col1\" >39892</td>\n",
       "    </tr>\n",
       "    <tr>\n",
       "      <th id=\"T_c0223_level0_row5\" class=\"row_heading level0 row5\" >5</th>\n",
       "      <td id=\"T_c0223_row5_col0\" class=\"data row5 col0\" >3</td>\n",
       "      <td id=\"T_c0223_row5_col1\" class=\"data row5 col1\" >56643</td>\n",
       "    </tr>\n",
       "    <tr>\n",
       "      <th id=\"T_c0223_level0_row6\" class=\"row_heading level0 row6\" >6</th>\n",
       "      <td id=\"T_c0223_row6_col0\" class=\"data row6 col0\" >3</td>\n",
       "      <td id=\"T_c0223_row6_col1\" class=\"data row6 col1\" >60151</td>\n",
       "    </tr>\n",
       "    <tr>\n",
       "      <th id=\"T_c0223_level0_row7\" class=\"row_heading level0 row7\" >7</th>\n",
       "      <td id=\"T_c0223_row7_col0\" class=\"data row7 col0\" >3</td>\n",
       "      <td id=\"T_c0223_row7_col1\" class=\"data row7 col1\" >54446</td>\n",
       "    </tr>\n",
       "    <tr>\n",
       "      <th id=\"T_c0223_level0_row8\" class=\"row_heading level0 row8\" >8</th>\n",
       "      <td id=\"T_c0223_row8_col0\" class=\"data row8 col0\" >3</td>\n",
       "      <td id=\"T_c0223_row8_col1\" class=\"data row8 col1\" >64446</td>\n",
       "    </tr>\n",
       "    <tr>\n",
       "      <th id=\"T_c0223_level0_row9\" class=\"row_heading level0 row9\" >9</th>\n",
       "      <td id=\"T_c0223_row9_col0\" class=\"data row9 col0\" >4</td>\n",
       "      <td id=\"T_c0223_row9_col1\" class=\"data row9 col1\" >57190</td>\n",
       "    </tr>\n",
       "    <tr>\n",
       "      <th id=\"T_c0223_level0_row10\" class=\"row_heading level0 row10\" >10</th>\n",
       "      <td id=\"T_c0223_row10_col0\" class=\"data row10 col0\" >4</td>\n",
       "      <td id=\"T_c0223_row10_col1\" class=\"data row10 col1\" >63219</td>\n",
       "    </tr>\n",
       "    <tr>\n",
       "      <th id=\"T_c0223_level0_row11\" class=\"row_heading level0 row11\" >11</th>\n",
       "      <td id=\"T_c0223_row11_col0\" class=\"data row11 col0\" >4</td>\n",
       "      <td id=\"T_c0223_row11_col1\" class=\"data row11 col1\" >55795</td>\n",
       "    </tr>\n",
       "    <tr>\n",
       "      <th id=\"T_c0223_level0_row12\" class=\"row_heading level0 row12\" >12</th>\n",
       "      <td id=\"T_c0223_row12_col0\" class=\"data row12 col0\" >4</td>\n",
       "      <td id=\"T_c0223_row12_col1\" class=\"data row12 col1\" >56958</td>\n",
       "    </tr>\n",
       "    <tr>\n",
       "      <th id=\"T_c0223_level0_row13\" class=\"row_heading level0 row13\" >13</th>\n",
       "      <td id=\"T_c0223_row13_col0\" class=\"data row13 col0\" >4</td>\n",
       "      <td id=\"T_c0223_row13_col1\" class=\"data row13 col1\" >57082</td>\n",
       "    </tr>\n",
       "    <tr>\n",
       "      <th id=\"T_c0223_level0_row14\" class=\"row_heading level0 row14\" >14</th>\n",
       "      <td id=\"T_c0223_row14_col0\" class=\"data row14 col0\" >5</td>\n",
       "      <td id=\"T_c0223_row14_col1\" class=\"data row14 col1\" >61112</td>\n",
       "    </tr>\n",
       "    <tr>\n",
       "      <th id=\"T_c0223_level0_row15\" class=\"row_heading level0 row15\" >15</th>\n",
       "      <td id=\"T_c0223_row15_col0\" class=\"data row15 col0\" >5</td>\n",
       "      <td id=\"T_c0223_row15_col1\" class=\"data row15 col1\" >67939</td>\n",
       "    </tr>\n",
       "    <tr>\n",
       "      <th id=\"T_c0223_level0_row16\" class=\"row_heading level0 row16\" >16</th>\n",
       "      <td id=\"T_c0223_row16_col0\" class=\"data row16 col0\" >5</td>\n",
       "      <td id=\"T_c0223_row16_col1\" class=\"data row16 col1\" >66030</td>\n",
       "    </tr>\n",
       "    <tr>\n",
       "      <th id=\"T_c0223_level0_row17\" class=\"row_heading level0 row17\" >17</th>\n",
       "      <td id=\"T_c0223_row17_col0\" class=\"data row17 col0\" >5</td>\n",
       "      <td id=\"T_c0223_row17_col1\" class=\"data row17 col1\" >83089</td>\n",
       "    </tr>\n",
       "    <tr>\n",
       "      <th id=\"T_c0223_level0_row18\" class=\"row_heading level0 row18\" >18</th>\n",
       "      <td id=\"T_c0223_row18_col0\" class=\"data row18 col0\" >6</td>\n",
       "      <td id=\"T_c0223_row18_col1\" class=\"data row18 col1\" >81364</td>\n",
       "    </tr>\n",
       "    <tr>\n",
       "      <th id=\"T_c0223_level0_row19\" class=\"row_heading level0 row19\" >19</th>\n",
       "      <td id=\"T_c0223_row19_col0\" class=\"data row19 col0\" >6</td>\n",
       "      <td id=\"T_c0223_row19_col1\" class=\"data row19 col1\" >93941</td>\n",
       "    </tr>\n",
       "    <tr>\n",
       "      <th id=\"T_c0223_level0_row20\" class=\"row_heading level0 row20\" >20</th>\n",
       "      <td id=\"T_c0223_row20_col0\" class=\"data row20 col0\" >7</td>\n",
       "      <td id=\"T_c0223_row20_col1\" class=\"data row20 col1\" >91739</td>\n",
       "    </tr>\n",
       "    <tr>\n",
       "      <th id=\"T_c0223_level0_row21\" class=\"row_heading level0 row21\" >21</th>\n",
       "      <td id=\"T_c0223_row21_col0\" class=\"data row21 col0\" >7</td>\n",
       "      <td id=\"T_c0223_row21_col1\" class=\"data row21 col1\" >98274</td>\n",
       "    </tr>\n",
       "    <tr>\n",
       "      <th id=\"T_c0223_level0_row22\" class=\"row_heading level0 row22\" >22</th>\n",
       "      <td id=\"T_c0223_row22_col0\" class=\"data row22 col0\" >8</td>\n",
       "      <td id=\"T_c0223_row22_col1\" class=\"data row22 col1\" >101303</td>\n",
       "    </tr>\n",
       "    <tr>\n",
       "      <th id=\"T_c0223_level0_row23\" class=\"row_heading level0 row23\" >23</th>\n",
       "      <td id=\"T_c0223_row23_col0\" class=\"data row23 col0\" >8</td>\n",
       "      <td id=\"T_c0223_row23_col1\" class=\"data row23 col1\" >113813</td>\n",
       "    </tr>\n",
       "    <tr>\n",
       "      <th id=\"T_c0223_level0_row24\" class=\"row_heading level0 row24\" >24</th>\n",
       "      <td id=\"T_c0223_row24_col0\" class=\"data row24 col0\" >9</td>\n",
       "      <td id=\"T_c0223_row24_col1\" class=\"data row24 col1\" >109432</td>\n",
       "    </tr>\n",
       "    <tr>\n",
       "      <th id=\"T_c0223_level0_row25\" class=\"row_heading level0 row25\" >25</th>\n",
       "      <td id=\"T_c0223_row25_col0\" class=\"data row25 col0\" >9</td>\n",
       "      <td id=\"T_c0223_row25_col1\" class=\"data row25 col1\" >105583</td>\n",
       "    </tr>\n",
       "    <tr>\n",
       "      <th id=\"T_c0223_level0_row26\" class=\"row_heading level0 row26\" >26</th>\n",
       "      <td id=\"T_c0223_row26_col0\" class=\"data row26 col0\" >10</td>\n",
       "      <td id=\"T_c0223_row26_col1\" class=\"data row26 col1\" >116970</td>\n",
       "    </tr>\n",
       "    <tr>\n",
       "      <th id=\"T_c0223_level0_row27\" class=\"row_heading level0 row27\" >27</th>\n",
       "      <td id=\"T_c0223_row27_col0\" class=\"data row27 col0\" >10</td>\n",
       "      <td id=\"T_c0223_row27_col1\" class=\"data row27 col1\" >112636</td>\n",
       "    </tr>\n",
       "    <tr>\n",
       "      <th id=\"T_c0223_level0_row28\" class=\"row_heading level0 row28\" >28</th>\n",
       "      <td id=\"T_c0223_row28_col0\" class=\"data row28 col0\" >10</td>\n",
       "      <td id=\"T_c0223_row28_col1\" class=\"data row28 col1\" >122392</td>\n",
       "    </tr>\n",
       "    <tr>\n",
       "      <th id=\"T_c0223_level0_row29\" class=\"row_heading level0 row29\" >29</th>\n",
       "      <td id=\"T_c0223_row29_col0\" class=\"data row29 col0\" >11</td>\n",
       "      <td id=\"T_c0223_row29_col1\" class=\"data row29 col1\" >121873</td>\n",
       "    </tr>\n",
       "  </tbody>\n",
       "</table>\n"
      ],
      "text/plain": [
       "<pandas.io.formats.style.Styler at 0x7f55656ba310>"
      ]
     },
     "execution_count": 13,
     "metadata": {},
     "output_type": "execute_result"
    }
   ],
   "source": [
    "# Criando tabela  estilizada com gradiente de cores.\n",
    "tabela_colorida = sns.light_palette(\"green\", as_cmap=True) # Criando paleta de cores usando a função light_palette.\n",
    " \n",
    "\n",
    "print(\"Representando el estilo del DataFrame:\")\n",
    "df.style.background_gradient(cmap=tabela_colorida).format(\"{:.0f}\")\n",
    "\n",
    "#O método background_gradient aplica estilo a tabela do objeto style do DataFrame (df.style). Esse método cria um efeito \n",
    "#de gradiente de cores na tabela, onde os valores são mapeados para cores diferentes com base na paleta \"tabela_colorida\".\n",
    "#Por fim, o método format(\"{:.0f}\") é usado para formatar os números da tabela como inteiros sem casas decimais."
   ]
  },
  {
   "attachments": {},
   "cell_type": "markdown",
   "metadata": {},
   "source": [
    "* Gráfico de linha para mostrar a tendência dos salários conforme o tempo de experiência dos programadores."
   ]
  },
  {
   "cell_type": "code",
   "execution_count": 14,
   "metadata": {},
   "outputs": [
    {
     "data": {
      "image/png": "[encoded data removed]",
      "text/plain": [
       "<Figure size 640x480 with 1 Axes>"
      ]
     },
     "metadata": {},
     "output_type": "display_data"
    }
   ],
   "source": [
    "sns.lineplot(data=df, x=\"anos de experiência\", y=\"salário\", color=\"green\", marker=\"D\")\n",
    "\n",
    "plt.title(\"SALÁRIOS DOS PROGRAMADORES (EM UNIDADES MONETÁRIAS)\")\n",
    "plt.xlabel(\"Anos de experiência\")\n",
    "plt.ylabel('Unidades monetárias')\n",
    "plt.show()"
   ]
  },
  {
   "attachments": {},
   "cell_type": "markdown",
   "metadata": {},
   "source": [
    "4. Análise estatística\n",
    "\n",
    "A análise estatística é a coleta e interpretação de dados para descobrir padrões e tendências. - (De TechTarget, 2021).\n",
    "\n",
    "Nesse caso utilizaremos a análize descritiva, que consiste em descrever ou conhecer os dados, as principais tendências e observar situações que levam a novos fatos.\n",
    "\n",
    "* Histograma, é utilizado para representar a distribuição de frequência de alguns pontos de dados de uma variável."
   ]
  },
  {
   "cell_type": "code",
   "execution_count": 15,
   "metadata": {},
   "outputs": [
    {
     "data": {
      "image/png": "[encoded data removed]",
      "text/plain": [
       "<Figure size 640x480 with 1 Axes>"
      ]
     },
     "metadata": {},
     "output_type": "display_data"
    }
   ],
   "source": [
    "plt.hist(df['salário'], color=\"green\", rwidth=0.9)\n",
    "\n",
    "plt.title(\"HISTOGRAMA DOS SALÁRIOS DOS PROGRAMADORES\")\n",
    "plt.xlabel(\"salário\")\n",
    "plt.show()"
   ]
  },
  {
   "attachments": {},
   "cell_type": "markdown",
   "metadata": {},
   "source": [
    "* Média é definida como a soma de N elementos dividida por N. É uma medida bastante conhecida embora tenha a desvantagem de ser muito suscetível a valores extremos."
   ]
  },
  {
   "cell_type": "code",
   "execution_count": 17,
   "metadata": {},
   "outputs": [
    {
     "name": "stdout",
     "output_type": "stream",
     "text": [
      "A média é:  76004.0\n"
     ]
    }
   ],
   "source": [
    "# Calculando a média\n",
    "media=df[\"salário\"].mean()\n",
    "print(\"A média é: \", media)"
   ]
  },
  {
   "attachments": {},
   "cell_type": "markdown",
   "metadata": {},
   "source": [
    "* Mediana é o valor que está exatamente no meio de um conjunto de dados e nos diz que metade dos valores dentro do conjunto de dados são menores que 50% dos dados e maiores que os 50% restantes."
   ]
  },
  {
   "cell_type": "code",
   "execution_count": 18,
   "metadata": {},
   "outputs": [
    {
     "name": "stdout",
     "output_type": "stream",
     "text": [
      "A mediana é:  65238.0\n"
     ]
    }
   ],
   "source": [
    "# Calculando a mediana\n",
    "mediana = df[\"salário\"].median()\n",
    "print(\"A mediana é: \", mediana)"
   ]
  },
  {
   "attachments": {},
   "cell_type": "markdown",
   "metadata": {},
   "source": [
    "* Moda é o valor que mais se repete (aplicável apenas a variáveis discretas)"
   ]
  },
  {
   "cell_type": "code",
   "execution_count": 20,
   "metadata": {},
   "outputs": [
    {
     "name": "stdout",
     "output_type": "stream",
     "text": [
      "A moda é:  0      37732.0\n",
      "1      39344.0\n",
      "2      39892.0\n",
      "3      43526.0\n",
      "4      46206.0\n",
      "5      54446.0\n",
      "6      55795.0\n",
      "7      56643.0\n",
      "8      56958.0\n",
      "9      57082.0\n",
      "10     57190.0\n",
      "11     60151.0\n",
      "12     61112.0\n",
      "13     63219.0\n",
      "14     64446.0\n",
      "15     66030.0\n",
      "16     67939.0\n",
      "17     81364.0\n",
      "18     83089.0\n",
      "19     91739.0\n",
      "20     93941.0\n",
      "21     98274.0\n",
      "22    101303.0\n",
      "23    105583.0\n",
      "24    109432.0\n",
      "25    112636.0\n",
      "26    113813.0\n",
      "27    116970.0\n",
      "28    121873.0\n",
      "29    122392.0\n",
      "Name: salário, dtype: float64\n"
     ]
    }
   ],
   "source": [
    "# Calculando a moda\n",
    "moda = df[\"salário\"].mode()\n",
    "print(\"A moda é: \", moda)"
   ]
  },
  {
   "attachments": {},
   "cell_type": "markdown",
   "metadata": {},
   "source": [
    "* Os percentis e quantis foram os mesmos da mediana, exceto que aqui a divisão não é mais de 50%."
   ]
  },
  {
   "cell_type": "code",
   "execution_count": 21,
   "metadata": {},
   "outputs": [
    {
     "name": "stdout",
     "output_type": "stream",
     "text": [
      "O quartil e o percentil é:  114128.70000000001\n"
     ]
    }
   ],
   "source": [
    "p90 = df[\"salário\"].quantile(0.9)\n",
    "print(\"O quartil e o percentil é: \", p90)\n",
    "\n",
    "#O conceito é o mesmo da mediana, só que aqui a divisão não é mais 50%.\n",
    "#25% das observações são menores que o primeiro quartil.\n",
    "#Os quartis cobrem 25%, 50% e 75% das observações. Percentis são uma generalização para qualquer porcentagem"
   ]
  },
  {
   "attachments": {},
   "cell_type": "markdown",
   "metadata": {},
   "source": [
    "* A linha assimétrica tem inclinação negativa, de acordo com os valores registrados nos dados."
   ]
  },
  {
   "cell_type": "code",
   "execution_count": 25,
   "metadata": {},
   "outputs": [
    {
     "data": {
      "image/png": "[encoded data removed]",
      "text/plain": [
       "<Figure size 640x480 with 1 Axes>"
      ]
     },
     "metadata": {},
     "output_type": "display_data"
    }
   ],
   "source": [
    "# Densidade da probalidade\n",
    "\n",
    "sns.kdeplot(\n",
    "    data = df,\n",
    "    x = \"salário\" #Variável\n",
    ")\n",
    "\n",
    "plt.title(\"SALÁRIO DOS PROGRAMADORES (LINHA ASSIMÉTRICA)\")\n",
    "plt.show()"
   ]
  },
  {
   "cell_type": "code",
   "execution_count": null,
   "metadata": {},
   "outputs": [],
   "source": []
  }
 ],
 "metadata": {
  "kernelspec": {
   "display_name": "venv_salario_programador",
   "language": "python",
   "name": "python3"
  },
  "language_info": {
   "codemirror_mode": {
    "name": "ipython",
    "version": 3
   },
   "file_extension": ".py",
   "mimetype": "text/x-python",
   "name": "python",
   "nbconvert_exporter": "python",
   "pygments_lexer": "ipython3",
   "version": "3.8.10"
  },
  "orig_nbformat": 4
 },
 "nbformat": 4,
 "nbformat_minor": 2
}
